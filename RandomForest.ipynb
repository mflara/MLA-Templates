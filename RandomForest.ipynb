{
 "cells": [
  {
   "cell_type": "code",
   "execution_count": 53,
   "metadata": {
    "collapsed": true
   },
   "outputs": [],
   "source": [
    "%matplotlib inline\n",
    "import numpy as np\n",
    "import pandas as pd\n",
    "import matplotlib.pyplot as plt\n",
    "\n",
    "#sklearn - Machine Learning Package\n",
    "import sklearn.model_selection as modsel\n",
    "from sklearn import metrics\n",
    "from sklearn.metrics import classification_report\n",
    "from sklearn.ensemble import GradientBoostingClassifier"
   ]
  },
  {
   "cell_type": "markdown",
   "metadata": {},
   "source": [
    "### Load and Inspect Data"
   ]
  },
  {
   "cell_type": "code",
   "execution_count": 20,
   "metadata": {},
   "outputs": [
    {
     "name": "stdout",
     "output_type": "stream",
     "text": [
      "Dimensions: 768 records x 9 features.\n",
      "Unique Feature Data Types: 2\n",
      " -> int64\n",
      " -> float64\n",
      "\n",
      "NULL Entries: 0 \n",
      "\n",
      "<class 'pandas.core.frame.DataFrame'>\n",
      "RangeIndex: 768 entries, 0 to 767\n",
      "Data columns (total 9 columns):\n",
      "Pregnancies                 768 non-null int64\n",
      "Glucose                     768 non-null int64\n",
      "BloodPressure               768 non-null int64\n",
      "SkinThickness               768 non-null int64\n",
      "Insulin                     768 non-null int64\n",
      "BMI                         768 non-null float64\n",
      "DiabetesPedigreeFunction    768 non-null float64\n",
      "Age                         768 non-null int64\n",
      "Outcome                     768 non-null int64\n",
      "dtypes: float64(2), int64(7)\n",
      "memory usage: 54.1 KB\n",
      "None\n"
     ]
    }
   ],
   "source": [
    "filename = 'diabetes.csv'\n",
    "DT = pd.read_csv(filename,sep=',')\n",
    "\n",
    "####\n",
    "# Data Inspection\n",
    "# - Total Number of Records and Features\n",
    "# - Unique Feature Data Types\n",
    "# - Presence of Null Entries\n",
    "####\n",
    "\n",
    "print('Dimensions: %s records x %s features.' % DT.shape)\n",
    "\n",
    "print('Unique Feature Data Types: %s' % len(DT.dtypes.unique()))\n",
    "for x in DT.dtypes.unique():\n",
    "    print(' -> '+str(x))\n",
    "\n",
    "null_idx = DT.isnull().any().values\n",
    "null_idx = null_idx[null_idx==True]\n",
    "print('')\n",
    "print('NULL Entries: %s \\n' % len(null_idx))\n",
    "if(len(null_idx)>0):\n",
    "    for x in null_idx:\n",
    "        if(DT.iloc[:,x].isnull()):\n",
    "            print(' - ' + str(x) + ' has %s NULL entries' % len(DT[x].isnull()))\n",
    "del null_idx\n",
    "\n",
    "print(DT.info())"
   ]
  },
  {
   "cell_type": "markdown",
   "metadata": {},
   "source": [
    "### Split Data into Training and Test Sets"
   ]
  },
  {
   "cell_type": "code",
   "execution_count": 30,
   "metadata": {},
   "outputs": [],
   "source": [
    "# Data Splitting Parameters\n",
    "prop_test = 0.2\n",
    "cols = DT.columns[0:-1]\n",
    "str_output = 'Outcome'\n",
    "\n",
    "#Create Train & Test Sets\n",
    "X_train, X_test, y_train, y_test = modsel.train_test_split(\n",
    "                DT[cols],\n",
    "                DT[str_output],\n",
    "                test_size=prop_test, \n",
    "                random_state=1234)"
   ]
  },
  {
   "cell_type": "markdown",
   "metadata": {},
   "source": [
    "### Model Tuning Parameters"
   ]
  },
  {
   "cell_type": "code",
   "execution_count": 11,
   "metadata": {
    "collapsed": true
   },
   "outputs": [],
   "source": [
    "#Number of Decision Trees\n",
    "n_estimators = 10\n",
    "\n",
    "# {'gini', 'entropy'}\n",
    "criterion = 'gini'\n",
    "\n",
    "# int: consider all features\n",
    "# float: consider a percentage of features\n",
    "# {'sqrt','log2','auto'}\n",
    "# None\n",
    "max_features = 'sqrt'\n",
    "\n",
    "min_samples_split = 2\n",
    "min_samples_leaf = 1\n",
    "min_weight_fraction_leaf = 0\n",
    "min_impurity_split = 1e-7\n",
    "bootstrap = True\n",
    "oob_score =False\n",
    "n_jobs = 1\n",
    "random_state = 123456\n",
    "verbose = 0\n",
    "warm_start = False\n",
    "class_weight = None\n",
    "\n",
    "max_depth = None\n",
    "max_leaf_nodes = None \n",
    "class_weight = None"
   ]
  },
  {
   "cell_type": "markdown",
   "metadata": {},
   "source": [
    "### Initialize & Train Model Object"
   ]
  },
  {
   "cell_type": "code",
   "execution_count": 31,
   "metadata": {},
   "outputs": [
    {
     "data": {
      "text/plain": [
       "RandomForestClassifier(bootstrap=True, class_weight=None, criterion='gini',\n",
       "            max_depth=None, max_features='sqrt', max_leaf_nodes=None,\n",
       "            min_impurity_split=1e-07, min_samples_leaf=1,\n",
       "            min_samples_split=2, min_weight_fraction_leaf=0,\n",
       "            n_estimators=10, n_jobs=1, oob_score=False,\n",
       "            random_state=123456, verbose=0, warm_start=False)"
      ]
     },
     "execution_count": 31,
     "metadata": {},
     "output_type": "execute_result"
    }
   ],
   "source": [
    "#Initialize Using Specified Parameters\n",
    "model_rf_class = RandomForestClassifier(n_estimators=n_estimators,\n",
    "                                        criterion = criterion,\n",
    "                                        max_features = max_features,\n",
    "                                        max_depth = max_depth,\n",
    "                                        min_samples_split=min_samples_split,\n",
    "                                        min_samples_leaf = min_samples_leaf,\n",
    "                                        min_weight_fraction_leaf = min_weight_fraction_leaf,\n",
    "                                        max_leaf_nodes = max_leaf_nodes,\n",
    "                                        min_impurity_split = min_impurity_split,\n",
    "                                        bootstrap = bootstrap,\n",
    "                                        oob_score = oob_score,\n",
    "                                        n_jobs=n_jobs,\n",
    "                                        random_state = random_state,\n",
    "                                        verbose = verbose,\n",
    "                                        warm_start = warm_start,\n",
    "                                        class_weight = class_weight,                                                                             \n",
    "                                       )\n",
    "\n",
    "#Train Model on Data\n",
    "model_rf_class.fit(X_train,y_train)"
   ]
  },
  {
   "cell_type": "markdown",
   "metadata": {},
   "source": [
    "### Model Validation - Training Set"
   ]
  },
  {
   "cell_type": "code",
   "execution_count": 33,
   "metadata": {},
   "outputs": [
    {
     "name": "stdout",
     "output_type": "stream",
     "text": [
      "             precision    recall  f1-score   support\n",
      "\n",
      "          0       0.98      0.99      0.98       401\n",
      "          1       0.98      0.95      0.97       213\n",
      "\n",
      "avg / total       0.98      0.98      0.98       614\n",
      "\n"
     ]
    }
   ],
   "source": [
    "train_preds = model_rf_class.predict(X_train)\n",
    "print(classification_report(y_train,train_preds))"
   ]
  },
  {
   "cell_type": "markdown",
   "metadata": {},
   "source": [
    "### Model Validation - Test Set"
   ]
  },
  {
   "cell_type": "code",
   "execution_count": 34,
   "metadata": {},
   "outputs": [
    {
     "name": "stdout",
     "output_type": "stream",
     "text": [
      "             precision    recall  f1-score   support\n",
      "\n",
      "          0       0.77      0.87      0.82        99\n",
      "          1       0.70      0.55      0.61        55\n",
      "\n",
      "avg / total       0.75      0.75      0.75       154\n",
      "\n"
     ]
    }
   ],
   "source": [
    "test_preds = model_rf_class.predict(X_test)\n",
    "print(classification_report(y_test,test_preds))"
   ]
  },
  {
   "cell_type": "markdown",
   "metadata": {},
   "source": [
    "### Model Validation - ROC Curve"
   ]
  },
  {
   "cell_type": "code",
   "execution_count": 52,
   "metadata": {},
   "outputs": [
    {
     "data": {
      "image/png": "[encoded data removed]",
      "text/plain": [
       "<matplotlib.figure.Figure at 0x11a6fc990>"
      ]
     },
     "metadata": {},
     "output_type": "display_data"
    }
   ],
   "source": [
    "#Calculate Probabilities for Class 1\n",
    "test_probs = model_rf_class.predict_proba(X_test)\n",
    "\n",
    "#Calculate FPR and TPR for Difference Thresholds\n",
    "fpr, tpr,thresholds = metrics.roc_curve(y_true=y_test,y_score = test_probs[:,1])\n",
    "\n",
    "#Calculate AUC for ROC\n",
    "auc = metrics.roc_auc_score(y_true=y_test,y_score = test_probs[:,1])\n",
    "\n",
    "\n",
    "plt.figure()\n",
    "lw = 2\n",
    "plt.plot(fpr, tpr, color='darkorange',lw=lw, label='ROC curve (area = %0.2f)' % auc)\n",
    "plt.plot([0, 1], [0, 1], color='navy', lw=lw, linestyle='--')\n",
    "plt.xlim([0.0, 1.0])\n",
    "plt.ylim([0.0, 1.05])\n",
    "plt.xlabel('False Positive Rate')\n",
    "plt.ylabel('True Positive Rate')\n",
    "plt.title('Receiver operating characteristic example')\n",
    "plt.legend(loc=\"lower right\")\n",
    "plt.show()"
   ]
  },
  {
   "cell_type": "markdown",
   "metadata": {},
   "source": [
    "### Feature Importance"
   ]
  },
  {
   "cell_type": "code",
   "execution_count": 74,
   "metadata": {},
   "outputs": [
    {
     "data": {
      "image/png": "[encoded data removed]",
      "text/plain": [
       "<matplotlib.figure.Figure at 0x11aafb050>"
      ]
     },
     "metadata": {},
     "output_type": "display_data"
    }
   ],
   "source": [
    "plt.figure(figsize=(12,8))\n",
    "plt.plot(model_rf_class.feature_importances_)\n",
    "plt.xticks(range(X_test.shape[1]), X_test.columns)\n",
    "plt.title('Random Forest Classifier Feature Importance [Criterion: ' + criterion+']')\n",
    "plt.show()"
   ]
  },
  {
   "cell_type": "code",
   "execution_count": null,
   "metadata": {
    "collapsed": true
   },
   "outputs": [],
   "source": []
  },
  {
   "cell_type": "code",
   "execution_count": null,
   "metadata": {
    "collapsed": true
   },
   "outputs": [],
   "source": []
  },
  {
   "cell_type": "code",
   "execution_count": null,
   "metadata": {
    "collapsed": true
   },
   "outputs": [],
   "source": []
  }
 ],
 "metadata": {
  "kernelspec": {
   "display_name": "Python 2",
   "language": "python",
   "name": "python2"
  },
  "language_info": {
   "codemirror_mode": {
    "name": "ipython",
    "version": 2
   },
   "file_extension": ".py",
   "mimetype": "text/x-python",
   "name": "python",
   "nbconvert_exporter": "python",
   "pygments_lexer": "ipython2",
   "version": "2.7.13"
  }
 },
 "nbformat": 4,
 "nbformat_minor": 2
}
