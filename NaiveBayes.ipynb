{
 "cells": [
  {
   "cell_type": "code",
   "execution_count": 1,
   "metadata": {
    "collapsed": true
   },
   "outputs": [],
   "source": [
    "%matplotlib inline\n",
    "import numpy as np\n",
    "import pandas as pd\n",
    "import matplotlib.pyplot as plt\n",
    "\n",
    "#sklearn - Machine Learning Package\n",
    "import sklearn.model_selection as modsel\n",
    "from sklearn import metrics\n",
    "from sklearn.metrics import classification_report\n",
    "\n",
    "#Gaussian Naive Bayes Algorithm\n",
    "from sklearn.naive_bayes import GaussianNB\n"
   ]
  },
  {
   "cell_type": "markdown",
   "metadata": {},
   "source": [
    "## Load and Inspect Data"
   ]
  },
  {
   "cell_type": "code",
   "execution_count": 2,
   "metadata": {},
   "outputs": [
    {
     "name": "stdout",
     "output_type": "stream",
     "text": [
      "Dimensions: 768 records x 9 features.\n",
      "Unique Feature Data Types: 2\n",
      " -> int64\n",
      " -> float64\n",
      "\n",
      "NULL Entries: 0 \n",
      "\n",
      "<class 'pandas.core.frame.DataFrame'>\n",
      "RangeIndex: 768 entries, 0 to 767\n",
      "Data columns (total 9 columns):\n",
      "Pregnancies                 768 non-null int64\n",
      "Glucose                     768 non-null int64\n",
      "BloodPressure               768 non-null int64\n",
      "SkinThickness               768 non-null int64\n",
      "Insulin                     768 non-null int64\n",
      "BMI                         768 non-null float64\n",
      "DiabetesPedigreeFunction    768 non-null float64\n",
      "Age                         768 non-null int64\n",
      "Outcome                     768 non-null int64\n",
      "dtypes: float64(2), int64(7)\n",
      "memory usage: 54.1 KB\n",
      "None\n"
     ]
    }
   ],
   "source": [
    "filename = 'diabetes.csv'\n",
    "DT = pd.read_csv(filename,sep=',')\n",
    "\n",
    "####\n",
    "# Data Inspection\n",
    "# - Total Number of Records and Features\n",
    "# - Unique Feature Data Types\n",
    "# - Presence of Null Entries\n",
    "####\n",
    "\n",
    "print('Dimensions: %s records x %s features.' % DT.shape)\n",
    "\n",
    "print('Unique Feature Data Types: %s' % len(DT.dtypes.unique()))\n",
    "for x in DT.dtypes.unique():\n",
    "    print(' -> '+str(x))\n",
    "\n",
    "null_idx = DT.isnull().any().values\n",
    "null_idx = null_idx[null_idx==True]\n",
    "print('')\n",
    "print('NULL Entries: %s \\n' % len(null_idx))\n",
    "if(len(null_idx)>0):\n",
    "    for x in null_idx:\n",
    "        if(DT.iloc[:,x].isnull()):\n",
    "            print(' - ' + str(x) + ' has %s NULL entries' % len(DT[x].isnull()))\n",
    "del null_idx\n",
    "\n",
    "print(DT.info())"
   ]
  },
  {
   "cell_type": "markdown",
   "metadata": {},
   "source": [
    "### Split Data into Training and Test Sets"
   ]
  },
  {
   "cell_type": "code",
   "execution_count": 3,
   "metadata": {
    "collapsed": true
   },
   "outputs": [],
   "source": [
    "#Proportion of Data Used for Test Set\n",
    "prop_test = 0.2\n",
    "\n",
    "cols = DT.columns[0:-1]\n",
    "str_output = 'Outcome'\n",
    "\n",
    "#Create Train & Test Sets\n",
    "X_train, X_test, y_train, y_test = modsel.train_test_split(\n",
    "                DT[cols],\n",
    "                DT[str_output],\n",
    "                test_size=prop_test, \n",
    "                random_state=1234)"
   ]
  },
  {
   "cell_type": "markdown",
   "metadata": {},
   "source": [
    "### Initialize & Train Model Object"
   ]
  },
  {
   "cell_type": "code",
   "execution_count": 4,
   "metadata": {},
   "outputs": [
    {
     "data": {
      "text/plain": [
       "GaussianNB(priors=[0.5, 0.5])"
      ]
     },
     "execution_count": 4,
     "metadata": {},
     "output_type": "execute_result"
    }
   ],
   "source": [
    "priors = [0.5,0.5]\n",
    "model_NB_class = GaussianNB(priors = priors)\n",
    "model_NB_class.fit(X_train, y_train)"
   ]
  },
  {
   "cell_type": "markdown",
   "metadata": {},
   "source": [
    "### Model Validation - Training Set"
   ]
  },
  {
   "cell_type": "code",
   "execution_count": 6,
   "metadata": {},
   "outputs": [
    {
     "name": "stdout",
     "output_type": "stream",
     "text": [
      "             precision    recall  f1-score   support\n",
      "\n",
      "          0       0.82      0.78      0.80       401\n",
      "          1       0.62      0.68      0.65       213\n",
      "\n",
      "avg / total       0.75      0.75      0.75       614\n",
      "\n"
     ]
    }
   ],
   "source": [
    "train_preds = model_NB_class.predict(X_train)\n",
    "print(classification_report(y_train,train_preds))"
   ]
  },
  {
   "cell_type": "markdown",
   "metadata": {},
   "source": [
    "### Model Validation - Test Set"
   ]
  },
  {
   "cell_type": "code",
   "execution_count": 7,
   "metadata": {},
   "outputs": [
    {
     "name": "stdout",
     "output_type": "stream",
     "text": [
      "             precision    recall  f1-score   support\n",
      "\n",
      "          0       0.82      0.83      0.82        99\n",
      "          1       0.69      0.67      0.68        55\n",
      "\n",
      "avg / total       0.77      0.77      0.77       154\n",
      "\n"
     ]
    }
   ],
   "source": [
    "test_preds = model_NB_class.predict(X_test)\n",
    "print(classification_report(y_test,test_preds))"
   ]
  },
  {
   "cell_type": "markdown",
   "metadata": {},
   "source": [
    "### Model Validation - ROC Curve"
   ]
  },
  {
   "cell_type": "code",
   "execution_count": 8,
   "metadata": {},
   "outputs": [
    {
     "data": {
      "image/png": "[encoded data removed]",
      "text/plain": [
       "<matplotlib.figure.Figure at 0x101b66790>"
      ]
     },
     "metadata": {},
     "output_type": "display_data"
    }
   ],
   "source": [
    "#Calculate Probabilities for Class 1\n",
    "test_probs = model_NB_class.predict_proba(X_test)\n",
    "\n",
    "#Calculate FPR and TPR for Difference Thresholds\n",
    "fpr, tpr,thresholds = metrics.roc_curve(y_true=y_test,y_score = test_probs[:,1])\n",
    "\n",
    "#Calculate AUC for ROC\n",
    "auc = metrics.roc_auc_score(y_true=y_test,y_score = test_probs[:,1])\n",
    "\n",
    "plt.figure()\n",
    "lw = 2\n",
    "plt.plot(fpr, tpr, color='darkorange',lw=lw, label='ROC curve (area = %0.2f)' % auc)\n",
    "plt.plot([0, 1], [0, 1], color='navy', lw=lw, linestyle='--')\n",
    "plt.xlim([0.0, 1.0])\n",
    "plt.ylim([0.0, 1.05])\n",
    "plt.xlabel('False Positive Rate')\n",
    "plt.ylabel('True Positive Rate')\n",
    "plt.title('Receiver operating characteristic example')\n",
    "plt.legend(loc=\"lower right\")\n",
    "plt.show()"
   ]
  },
  {
   "cell_type": "code",
   "execution_count": null,
   "metadata": {
    "collapsed": true
   },
   "outputs": [],
   "source": []
  },
  {
   "cell_type": "code",
   "execution_count": null,
   "metadata": {
    "collapsed": true
   },
   "outputs": [],
   "source": []
  },
  {
   "cell_type": "code",
   "execution_count": null,
   "metadata": {
    "collapsed": true
   },
   "outputs": [],
   "source": []
  },
  {
   "cell_type": "code",
   "execution_count": null,
   "metadata": {
    "collapsed": true
   },
   "outputs": [],
   "source": []
  },
  {
   "cell_type": "code",
   "execution_count": null,
   "metadata": {
    "collapsed": true
   },
   "outputs": [],
   "source": []
  },
  {
   "cell_type": "code",
   "execution_count": null,
   "metadata": {
    "collapsed": true
   },
   "outputs": [],
   "source": []
  },
  {
   "cell_type": "code",
   "execution_count": null,
   "metadata": {
    "collapsed": true
   },
   "outputs": [],
   "source": []
  },
  {
   "cell_type": "code",
   "execution_count": null,
   "metadata": {
    "collapsed": true
   },
   "outputs": [],
   "source": []
  },
  {
   "cell_type": "code",
   "execution_count": null,
   "metadata": {
    "collapsed": true
   },
   "outputs": [],
   "source": []
  }
 ],
 "metadata": {
  "kernelspec": {
   "display_name": "Python 2",
   "language": "python",
   "name": "python2"
  },
  "language_info": {
   "codemirror_mode": {
    "name": "ipython",
    "version": 2
   },
   "file_extension": ".py",
   "mimetype": "text/x-python",
   "name": "python",
   "nbconvert_exporter": "python",
   "pygments_lexer": "ipython2",
   "version": "2.7.13"
  }
 },
 "nbformat": 4,
 "nbformat_minor": 2
}
