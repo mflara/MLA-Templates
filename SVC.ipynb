{
 "cells": [
  {
   "cell_type": "code",
   "execution_count": 1,
   "metadata": {
    "collapsed": true
   },
   "outputs": [],
   "source": [
    "%matplotlib inline\n",
    "import numpy as np\n",
    "import pandas as pd\n",
    "import matplotlib.pyplot as plt\n",
    "\n",
    "#sklearn - Machine Learning Package\n",
    "import sklearn.model_selection as modsel\n",
    "from sklearn import metrics\n",
    "from sklearn.metrics import classification_report\n",
    "from sklearn.svm import SVC\n"
   ]
  },
  {
   "cell_type": "markdown",
   "metadata": {},
   "source": [
    "### Load and Inspect Data"
   ]
  },
  {
   "cell_type": "code",
   "execution_count": 57,
   "metadata": {},
   "outputs": [
    {
     "name": "stdout",
     "output_type": "stream",
     "text": [
      "Dimensions: 768 records x 9 features.\n",
      "Unique Feature Data Types: 2\n",
      " -> int64\n",
      " -> float64\n",
      "\n",
      "NULL Entries: 0 \n",
      "\n",
      "<class 'pandas.core.frame.DataFrame'>\n",
      "RangeIndex: 768 entries, 0 to 767\n",
      "Data columns (total 9 columns):\n",
      "Pregnancies                 768 non-null int64\n",
      "Glucose                     768 non-null int64\n",
      "BloodPressure               768 non-null int64\n",
      "SkinThickness               768 non-null int64\n",
      "Insulin                     768 non-null int64\n",
      "BMI                         768 non-null float64\n",
      "DiabetesPedigreeFunction    768 non-null float64\n",
      "Age                         768 non-null int64\n",
      "Outcome                     768 non-null int64\n",
      "dtypes: float64(2), int64(7)\n",
      "memory usage: 54.1 KB\n",
      "None\n",
      "\n",
      "# of Negative Diagnoses: 500\n",
      "# of Positive Diagnoses: 268\n"
     ]
    }
   ],
   "source": [
    "filename = 'diabetes.csv'\n",
    "DT = pd.read_csv(filename,sep=',')\n",
    "\n",
    "####\n",
    "# Data Inspection\n",
    "# - Total Number of Records and Features\n",
    "# - Unique Feature Data Types\n",
    "# - Presence of Null Entries\n",
    "####\n",
    "\n",
    "print('Dimensions: %s records x %s features.' % DT.shape)\n",
    "\n",
    "print('Unique Feature Data Types: %s' % len(DT.dtypes.unique()))\n",
    "for x in DT.dtypes.unique():\n",
    "    print(' -> '+str(x))\n",
    "\n",
    "null_idx = DT.isnull().any().values\n",
    "null_idx = null_idx[null_idx==True]\n",
    "print('')\n",
    "print('NULL Entries: %s \\n' % len(null_idx))\n",
    "if(len(null_idx)>0):\n",
    "    for x in null_idx:\n",
    "        if(DT.iloc[:,x].isnull()):\n",
    "            print(' - ' + str(x) + ' has %s NULL entries' % len(DT[x].isnull()))\n",
    "del null_idx\n",
    "\n",
    "print(DT.info())\n",
    "print('')\n",
    "\n",
    "print('# of Negative Diagnoses: %s' % DT[DT['Outcome']==0].shape[0])\n",
    "print('# of Positive Diagnoses: %s' % DT[DT['Outcome']==1].shape[0])"
   ]
  },
  {
   "cell_type": "markdown",
   "metadata": {},
   "source": [
    "### Split Data Into Training and Data Sets"
   ]
  },
  {
   "cell_type": "code",
   "execution_count": 3,
   "metadata": {
    "collapsed": true
   },
   "outputs": [],
   "source": [
    "#Proportion of Data Used for Test Set\n",
    "prop_test = 0.2\n",
    "\n",
    "cols = DT.columns[0:-1]\n",
    "str_output = 'Outcome'\n",
    "\n",
    "#Create Train & Test Sets\n",
    "X_train, X_test, y_train, y_test = modsel.train_test_split(\n",
    "                DT[cols],\n",
    "                DT[str_output],\n",
    "                test_size=prop_test, \n",
    "                random_state=1234)"
   ]
  },
  {
   "cell_type": "markdown",
   "metadata": {},
   "source": [
    "### Model Tuning Parameters"
   ]
  },
  {
   "cell_type": "code",
   "execution_count": 15,
   "metadata": {
    "collapsed": true
   },
   "outputs": [],
   "source": [
    "# Cost Parameter\n",
    "C = 1.0\n",
    "\n",
    "#{'linear','poly','rbf,'sigmoid','precomputed'} or callable matrix\n",
    "kernel = 'rbf'\n",
    "\n",
    "# Degree of polynomial kernel. Ignored unless kernel is 'poly'\n",
    "degree = 3\n",
    "\n",
    "# Kernel Coefficient for 'rbf','poly','sigmoid'. \n",
    "# 'auto' = 1/n_features\n",
    "gamma ='auto'\n",
    "\n",
    "# Independent term in kernel function. (For 'poly' & 'sigmoid')\n",
    "coef0 = 0.0\n",
    "\n",
    "# {dict, 'balanced'}\n",
    "# Default class weights = 1\n",
    "# 'balanced' does automatic adjustment\n",
    "class_weight = None\n",
    "\n",
    "# If True, calculate probability estimates\n",
    "probability = True\n",
    "\n",
    "# Tolerance for stopping criterion\n",
    "tol = 1e-3\n",
    "\n",
    "# Apply shrinkage {True, False}\n",
    "shrinking = True\n",
    "\n",
    "# Size of kernel cache in MB\n",
    "cache_size = 200\n",
    "verbose = False\n",
    "\n",
    "# Hard limit on iterations within solver. \n",
    "# -1 indicates no limit\n",
    "max_iter = -1\n",
    "\n",
    "# {'ovo','ovr', None} - {'one-vs-one','one-vs-rest', None}\n",
    "decision_function_shape = None\n",
    "\n",
    "random_state = 12324\n"
   ]
  },
  {
   "cell_type": "markdown",
   "metadata": {},
   "source": [
    "### Initialize & Train Model Object"
   ]
  },
  {
   "cell_type": "code",
   "execution_count": 16,
   "metadata": {},
   "outputs": [
    {
     "data": {
      "text/plain": [
       "SVC(C=1.0, cache_size=200, class_weight=None, coef0=0.0,\n",
       "  decision_function_shape=None, degree=3, gamma='auto', kernel='rbf',\n",
       "  max_iter=-1, probability=True, random_state=12324, shrinking=True,\n",
       "  tol=0.001, verbose=False)"
      ]
     },
     "execution_count": 16,
     "metadata": {},
     "output_type": "execute_result"
    }
   ],
   "source": [
    "model_svc_class=SVC(C=C, \n",
    "                    kernel=kernel,\n",
    "                    degree=degree, \n",
    "                    gamma=gamma,\n",
    "                    coef0=coef0, \n",
    "                    shrinking=shrinking, \n",
    "                    probability=probability, \n",
    "                    tol=tol, \n",
    "                    cache_size=cache_size, \n",
    "                    class_weight=class_weight,\n",
    "                    verbose=verbose, \n",
    "                    max_iter=max_iter, \n",
    "                    decision_function_shape=decision_function_shape, \n",
    "                    random_state=random_state)\n",
    "\n",
    "#Train Model on Data\n",
    "model_svc_class.fit(X_train,y_train)"
   ]
  },
  {
   "cell_type": "markdown",
   "metadata": {},
   "source": [
    "### Model Validation Training Set"
   ]
  },
  {
   "cell_type": "code",
   "execution_count": 17,
   "metadata": {},
   "outputs": [
    {
     "name": "stdout",
     "output_type": "stream",
     "text": [
      "             precision    recall  f1-score   support\n",
      "\n",
      "          0       1.00      1.00      1.00       401\n",
      "          1       1.00      1.00      1.00       213\n",
      "\n",
      "avg / total       1.00      1.00      1.00       614\n",
      "\n"
     ]
    }
   ],
   "source": [
    "train_preds = model_svc_class.predict(X_train)\n",
    "print(classification_report(y_train,train_preds))"
   ]
  },
  {
   "cell_type": "markdown",
   "metadata": {},
   "source": [
    "### Model Validation - Test Set"
   ]
  },
  {
   "cell_type": "code",
   "execution_count": 18,
   "metadata": {},
   "outputs": [
    {
     "name": "stdout",
     "output_type": "stream",
     "text": [
      "             precision    recall  f1-score   support\n",
      "\n",
      "          0       0.64      1.00      0.78        99\n",
      "          1       0.00      0.00      0.00        55\n",
      "\n",
      "avg / total       0.41      0.64      0.50       154\n",
      "\n"
     ]
    }
   ],
   "source": [
    "test_preds = model_svc_class.predict(X_test)\n",
    "print(classification_report(y_test,test_preds))"
   ]
  },
  {
   "cell_type": "markdown",
   "metadata": {},
   "source": [
    "### Model Validation - ROC Curve"
   ]
  },
  {
   "cell_type": "code",
   "execution_count": 19,
   "metadata": {},
   "outputs": [
    {
     "data": {
      "image/png": "[encoded data removed]",
      "text/plain": [
       "<matplotlib.figure.Figure at 0x112e27f10>"
      ]
     },
     "metadata": {},
     "output_type": "display_data"
    }
   ],
   "source": [
    "#Calculate Probabilities for Class 1\n",
    "test_probs = model_svc_class.predict_proba(X_test)\n",
    "\n",
    "#Calculate FPR and TPR for Difference Thresholds\n",
    "fpr, tpr,thresholds = metrics.roc_curve(y_true=y_test,y_score = test_probs[:,1])\n",
    "\n",
    "#Calculate AUC for ROC\n",
    "auc = metrics.roc_auc_score(y_true=y_test,y_score = test_probs[:,1])\n",
    "\n",
    "plt.figure()\n",
    "lw = 2\n",
    "plt.plot(fpr, tpr, color='darkorange',lw=lw, label='ROC curve (area = %0.2f)' % auc)\n",
    "plt.plot([0, 1], [0, 1], color='navy', lw=lw, linestyle='--')\n",
    "plt.xlim([0.0, 1.0])\n",
    "plt.ylim([0.0, 1.05])\n",
    "plt.xlabel('False Positive Rate')\n",
    "plt.ylabel('True Positive Rate')\n",
    "plt.title('SVC Receiver Operating Characteristic')\n",
    "plt.legend(loc=\"lower right\")\n",
    "plt.show()"
   ]
  },
  {
   "cell_type": "markdown",
   "metadata": {},
   "source": [
    "### Support Vector Classifier Inspection\n",
    "\n",
    "The proportion of training data on the margin is 100%. This indicates that the raw data are not linearly separable up to $R^{9}$ space.\n"
   ]
  },
  {
   "cell_type": "code",
   "execution_count": 47,
   "metadata": {},
   "outputs": [
    {
     "name": "stdout",
     "output_type": "stream",
     "text": [
      "Total # of Support Vectors: 614\n",
      "# of Support Vectors for Class 0: 401\n",
      "# of Support Vectors for Class 1: 213\n",
      "\n",
      "614\n"
     ]
    },
    {
     "data": {
      "text/plain": [
       "<matplotlib.text.Text at 0x116d60550>"
      ]
     },
     "execution_count": 47,
     "metadata": {},
     "output_type": "execute_result"
    },
    {
     "data": {
      "image/png": "[encoded data removed]",
      "text/plain": [
       "<matplotlib.figure.Figure at 0x116fd25d0>"
      ]
     },
     "metadata": {},
     "output_type": "display_data"
    }
   ],
   "source": [
    "support_ = model_svc_class.support_vectors_\n",
    "n_support_ = model_svc_class.n_support_\n",
    "print('Total # of Support Vectors: %s' % len(support_))\n",
    "print('# of Support Vectors for Class 0: %s' % n_support_[0])\n",
    "print('# of Support Vectors for Class 1: %s' % n_support_[1])\n",
    "\n",
    "plt.hist(model_svc_class.decision_function(support_),bins = 30)\n",
    "plt.title('Distances of Support Vectors from Hyperplane')\n",
    "plt.xlabel('Distance')\n",
    "plt.ylabel('Counts')"
   ]
  },
  {
   "cell_type": "markdown",
   "metadata": {},
   "source": [
    "### Distance from Separating Hyperplane - Test Data\n",
    "\n",
    "The out-of-sample classification performance is extremely poor. The model predictions are biased towards the majority group. This can be improved via **feature engineering**, **hyperparameter tuning**, and **model architecture optimization**."
   ]
  },
  {
   "cell_type": "code",
   "execution_count": 58,
   "metadata": {},
   "outputs": [
    {
     "data": {
      "image/png": "[encoded data removed]",
      "text/plain": [
       "<matplotlib.figure.Figure at 0x117505210>"
      ]
     },
     "metadata": {},
     "output_type": "display_data"
    }
   ],
   "source": [
    "test_dist = model_svc_class.decision_function(X_test)\n",
    "\n",
    "plt.hist(test_dist,bins=30,cumulative=False)\n",
    "plt.title('SVC Test Data Distances')\n",
    "plt.show()\n"
   ]
  },
  {
   "cell_type": "code",
   "execution_count": null,
   "metadata": {
    "collapsed": true
   },
   "outputs": [],
   "source": []
  }
 ],
 "metadata": {
  "kernelspec": {
   "display_name": "Python 2",
   "language": "python",
   "name": "python2"
  },
  "language_info": {
   "codemirror_mode": {
    "name": "ipython",
    "version": 2
   },
   "file_extension": ".py",
   "mimetype": "text/x-python",
   "name": "python",
   "nbconvert_exporter": "python",
   "pygments_lexer": "ipython2",
   "version": "2.7.13"
  }
 },
 "nbformat": 4,
 "nbformat_minor": 2
}
