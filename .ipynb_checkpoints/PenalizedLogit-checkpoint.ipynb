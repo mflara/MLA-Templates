{
 "cells": [
  {
   "cell_type": "code",
   "execution_count": 6,
   "metadata": {},
   "outputs": [],
   "source": [
    "%matplotlib inline\n",
    "import numpy as np\n",
    "import pandas as pd\n",
    "import matplotlib.pyplot as plt\n",
    "\n",
    "#sklearn - Machine Learning Package\n",
    "import sklearn.model_selection as modsel\n",
    "from sklearn import metrics as meter\n",
    "from sklearn.metrics import classification_report\n",
    "from sklearn.linear_model import LogisticRegression\n",
    "\n",
    "#statsmodels - traditional statistical modeling package\n",
    "import statsmodels.api as sm\n"
   ]
  },
  {
   "cell_type": "markdown",
   "metadata": {},
   "source": [
    "### Load and Inspect Data "
   ]
  },
  {
   "cell_type": "code",
   "execution_count": 7,
   "metadata": {},
   "outputs": [
    {
     "name": "stdout",
     "output_type": "stream",
     "text": [
      "Dimensions: 768 records x 9 features.\n",
      "Unique Feature Data Types: 2\n",
      " -> int64\n",
      " -> float64\n",
      "\n",
      "NULL Entries: 0 \n",
      "\n",
      "<class 'pandas.core.frame.DataFrame'>\n",
      "RangeIndex: 768 entries, 0 to 767\n",
      "Data columns (total 9 columns):\n",
      "Pregnancies                 768 non-null int64\n",
      "Glucose                     768 non-null int64\n",
      "BloodPressure               768 non-null int64\n",
      "SkinThickness               768 non-null int64\n",
      "Insulin                     768 non-null int64\n",
      "BMI                         768 non-null float64\n",
      "DiabetesPedigreeFunction    768 non-null float64\n",
      "Age                         768 non-null int64\n",
      "Outcome                     768 non-null int64\n",
      "dtypes: float64(2), int64(7)\n",
      "memory usage: 54.1 KB\n",
      "None\n"
     ]
    }
   ],
   "source": [
    "filename = 'diabetes.csv'\n",
    "DT = pd.read_csv(filename,sep=',')\n",
    "\n",
    "####\n",
    "# Data Inspection\n",
    "# - Total Number of Records and Features\n",
    "# - Unique Feature Data Types\n",
    "# - Presence of Null Entries\n",
    "####\n",
    "\n",
    "print('Dimensions: %s records x %s features.' % DT.shape)\n",
    "\n",
    "print('Unique Feature Data Types: %s' % len(DT.dtypes.unique()))\n",
    "for x in DT.dtypes.unique():\n",
    "    print(' -> '+str(x))\n",
    "\n",
    "null_idx = DT.isnull().any().values\n",
    "null_idx = null_idx[null_idx==True]\n",
    "print('')\n",
    "print('NULL Entries: %s \\n' % len(null_idx))\n",
    "if(len(null_idx)>0):\n",
    "    for x in null_idx:\n",
    "        if(DT.iloc[:,x].isnull()):\n",
    "            print(' - ' + str(x) + ' has %s NULL entries' % len(DT[x].isnull()))\n",
    "del null_idx\n",
    "\n",
    "print(DT.info())"
   ]
  },
  {
   "cell_type": "markdown",
   "metadata": {},
   "source": [
    "### Split Data into Training and Test Sets"
   ]
  },
  {
   "cell_type": "code",
   "execution_count": 8,
   "metadata": {
    "collapsed": true
   },
   "outputs": [],
   "source": [
    "#Proportion of Data Used for Test Set\n",
    "prop_test = 0.2\n",
    "\n",
    "cols = DT.columns[0:-1]\n",
    "str_output = 'Outcome'\n",
    "\n",
    "#Create Train & Test Sets\n",
    "X_train, X_test, y_train, y_test = modsel.train_test_split(\n",
    "                DT[cols],\n",
    "                DT[str_output],\n",
    "                test_size=prop_test, \n",
    "                random_state=1234)"
   ]
  },
  {
   "cell_type": "markdown",
   "metadata": {},
   "source": [
    "### Initialize & Train Model Objects\n",
    "   \n",
    "##### Traditional Logit GLM"
   ]
  },
  {
   "cell_type": "code",
   "execution_count": 9,
   "metadata": {},
   "outputs": [
    {
     "name": "stdout",
     "output_type": "stream",
     "text": [
      "                 Generalized Linear Model Regression Results                  \n",
      "==============================================================================\n",
      "Dep. Variable:                Outcome   No. Observations:                  614\n",
      "Model:                            GLM   Df Residuals:                      605\n",
      "Model Family:                Binomial   Df Model:                            8\n",
      "Link Function:                  logit   Scale:                             1.0\n",
      "Method:                          IRLS   Log-Likelihood:                -286.68\n",
      "Date:                Wed, 21 Jun 2017   Deviance:                       573.37\n",
      "Time:                        17:13:22   Pearson chi2:                     679.\n",
      "No. Iterations:                     5                                         \n",
      "============================================================================================\n",
      "                               coef    std err          z      P>|z|      [0.025      0.975]\n",
      "--------------------------------------------------------------------------------------------\n",
      "Pregnancies                  0.1273      0.035      3.609      0.000       0.058       0.196\n",
      "Glucose                      0.0348      0.004      8.446      0.000       0.027       0.043\n",
      "BloodPressure               -0.0137      0.006     -2.368      0.018      -0.025      -0.002\n",
      "SkinThickness               -0.0051      0.008     -0.647      0.518      -0.020       0.010\n",
      "Insulin                     -0.0003      0.001     -0.273      0.785      -0.002       0.002\n",
      "BMI                          0.0930      0.017      5.473      0.000       0.060       0.126\n",
      "DiabetesPedigreeFunction     1.1283      0.350      3.220      0.001       0.442       1.815\n",
      "Age                          0.0108      0.010      1.049      0.294      -0.009       0.031\n",
      "const                       -8.3873      0.805    -10.415      0.000      -9.966      -6.809\n",
      "============================================================================================\n"
     ]
    }
   ],
   "source": [
    "# Traditional Logit Model\n",
    "logit_train_X=sm.add_constant(X_train,prepend=False)\n",
    "logit_model = sm.GLM( y_train,logit_train_X,family=sm.families.Binomial())\n",
    "logit_results=logit_model.fit()\n",
    "\n",
    "print(logit_results.summary())"
   ]
  },
  {
   "cell_type": "markdown",
   "metadata": {},
   "source": [
    "##### L1 & L2 Penalized Logit:  Parameters"
   ]
  },
  {
   "cell_type": "code",
   "execution_count": 10,
   "metadata": {},
   "outputs": [],
   "source": [
    "# Scikit-learn does not have separate logistic-lasso and logistic-ridge objects\n",
    "# Penalization is set via the 'penalty' parameter\n",
    "\n",
    "#{'l1', 'l2'}\n",
    "penalty = 'l2'\n",
    "\n",
    "# shrinkage parameter - float\n",
    "C = 1.0\n",
    "\n",
    "#{'newton-cgs','lbfgs','liblinear','sag'}\n",
    "solver = 'liblinear'\n",
    "\n",
    "#{'ovr,'multinomial'}\n",
    "multi_class= 'ovr'\n",
    "\n",
    "dual = False\n",
    "verbose =0\n",
    "warm_start = False\n",
    "fit_intercept = True\n",
    "intercept_scaling = 1.0\n",
    "class_weight = None\n",
    "max_iter = 100\n",
    "random_state = 1234\n",
    "tol=1e-4"
   ]
  },
  {
   "cell_type": "markdown",
   "metadata": {},
   "source": [
    "##### L1 & L2 Penalized Logit:  Instantiation and Training"
   ]
  },
  {
   "cell_type": "code",
   "execution_count": 11,
   "metadata": {},
   "outputs": [
    {
     "data": {
      "text/plain": [
       "LogisticRegression(C=1, class_weight=None, dual=False, fit_intercept=True,\n",
       "          intercept_scaling=1, max_iter=100, multi_class='ovr', n_jobs=1,\n",
       "          penalty='l2', random_state=1234, solver='liblinear', tol=0.01,\n",
       "          verbose=0, warm_start=False)"
      ]
     },
     "execution_count": 11,
     "metadata": {},
     "output_type": "execute_result"
    }
   ],
   "source": [
    "# Lasso Logit Model\n",
    "LR_l1 = LogisticRegression(C=1, penalty='l1', tol=0.01,random_state=1234)\n",
    "LR_l1.fit(X_train,y_train)\n",
    "\n",
    "# Ridge Logit Model\n",
    "LR_l2 = LogisticRegression(C=1, penalty='l2', tol=0.01,random_state=1234)\n",
    "LR_l2.fit(X_train,y_train)"
   ]
  },
  {
   "cell_type": "markdown",
   "metadata": {},
   "source": [
    "### Model Validation - Test Set ROC"
   ]
  },
  {
   "cell_type": "code",
   "execution_count": 12,
   "metadata": {},
   "outputs": [
    {
     "data": {
      "text/plain": [
       "<matplotlib.legend.Legend at 0x119cce210>"
      ]
     },
     "execution_count": 12,
     "metadata": {},
     "output_type": "execute_result"
    },
    {
     "data": {
      "image/png": "[encoded data removed]",
      "text/plain": [
       "<matplotlib.figure.Figure at 0x109fab810>"
      ]
     },
     "metadata": {},
     "output_type": "display_data"
    }
   ],
   "source": [
    "logit_test_X=sm.add_constant(X_test,prepend=False)\n",
    "test_res=logit_results.predict(logit_test_X)\n",
    "fpr_logit,tpr_logit,thresh_logit =meter.roc_curve(y_test,test_res)\n",
    "auc_logit=meter.roc_auc_score(y_test,test_res)\n",
    "\n",
    "L1_pred=LR_l1.predict_proba(X_test)\n",
    "fpr_l1,tpr_l1,thresh_l1 = meter.roc_curve(y_test.values,L1_pred[:,1])\n",
    "auc_l1=meter.roc_auc_score(y_test,L1_pred[:,1])\n",
    "\n",
    "L2_pred=LR_l2.predict_proba(X_test)\n",
    "fpr_l2,tpr_l2,thresh_l2 = meter.roc_curve(y_test.values,L2_pred[:,1])\n",
    "auc_l2=meter.roc_auc_score(y_test,L2_pred[:,1])\n",
    "\n",
    "plt.style.use('ggplot')\n",
    "\n",
    "plt.figure(figsize=(8,6))\n",
    "plt.plot(fpr_logit,tpr_logit,'b',label='Logit AUC =%0.4f' %auc_logit)\n",
    "plt.plot(fpr_l1,tpr_l1,'r',label='L1 Logit AUC =%0.4f' %auc_l1)\n",
    "plt.plot(fpr_l2,tpr_l2,'g',label='L2 Logit AUC =%0.4f' %auc_l2)\n",
    "plt.plot([0,1],[0,1],'k--')\n",
    "\n",
    "plt.title('Logit Regression ROC')\n",
    "plt.xlabel('False Positive Rate')\n",
    "plt.ylabel('True Positive Rate')\n",
    "plt.legend(loc='lower right')"
   ]
  },
  {
   "cell_type": "code",
   "execution_count": null,
   "metadata": {
    "collapsed": true
   },
   "outputs": [],
   "source": []
  }
 ],
 "metadata": {
  "kernelspec": {
   "display_name": "Python 2",
   "language": "python",
   "name": "python2"
  },
  "language_info": {
   "codemirror_mode": {
    "name": "ipython",
    "version": 2
   },
   "file_extension": ".py",
   "mimetype": "text/x-python",
   "name": "python",
   "nbconvert_exporter": "python",
   "pygments_lexer": "ipython2",
   "version": "2.7.13"
  }
 },
 "nbformat": 4,
 "nbformat_minor": 2
}
